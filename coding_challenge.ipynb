{
 "cells": [
  {
   "cell_type": "markdown",
   "id": "843913be-aa30-4e65-9537-566ba8936541",
   "metadata": {},
   "source": [
    "# Programming Challenge"
   ]
  },
  {
   "cell_type": "code",
   "execution_count": 45,
   "id": "e59bbabd-35d1-4972-a755-44efd76df352",
   "metadata": {},
   "outputs": [],
   "source": [
    "# Import all required Libraries\n",
    "import pandas as pd\n",
    "import numpy as np\n",
    "import io\n",
    "import csv"
   ]
  },
  {
   "cell_type": "code",
   "execution_count": 51,
   "id": "d29b104b-b55a-450b-8109-2d232e5bc629",
   "metadata": {},
   "outputs": [
    {
     "name": "stdout",
     "output_type": "stream",
     "text": [
      "{'das', 'neuen', 'hat', 'gemeinden', '2011', 'beantragt', 'grosse', 'geschäft', 'wird', 'von', 'fanas', 'um', 'setzen.', '1.', 'kanton', 'gremium:', 'kraft', 'regierung', 'zu', 'zur', 'sich', 'dem', 'die', '178', 'rat', 'fusion', 'der', 'valzeina', 'graubünden', 'vom', 'ihrer', 'grüsch,', 'und', 'grüsch', 'in', 'grossen', '<p>', 'quelle:', 'dezembersession', 'botschaft', 'zusammenschluss', 'auf', 'den', 'gemeinde', 'januar', 'dt'}\n"
     ]
    }
   ],
   "source": [
    "# Leere Liste erstellen\n",
    "liste_woerter = []\n",
    "\n",
    "# Erste Txt-Datei auslesen und Wörter zur Liste hinzufügen, die in zweite Txt-Datei vorkommen\n",
    "data1 = io.open('2010112901.txt', mode='r', encoding='utf-8')\n",
    "for row1 in data1:\n",
    "    woerter1 = row1.split()\n",
    "    for wort1 in woerter1:\n",
    "        data2 = io.open('2010100102.txt', mode='r', encoding='utf-8')\n",
    "        for row2 in data2: \n",
    "            woerter2 = row2.split()\n",
    "            for wort2 in woerter2:\n",
    "                if wort1 == wort2:\n",
    "                    wort = wort1.lower()\n",
    "                    liste_woerter.append(wort)\n",
    "                    \n",
    "# Zweite Txt-Datei auslesen und Wörter zur Liste hinzufügen, die in der ersten Txt-Datei vorkommen\n",
    "data1 = io.open('2010100102.txt', mode='r', encoding='utf-8')\n",
    "for row1 in data1:\n",
    "    woerter1 = row1.split()\n",
    "    for wort1 in woerter1:\n",
    "        data2 = io.open('2010112901.txt', mode='r', encoding='utf-8')\n",
    "        for row2 in data2: \n",
    "            woerter2 = row2.split()\n",
    "            for wort2 in woerter2:\n",
    "                if wort1 == wort2:\n",
    "                    wort = wort1.lower()\n",
    "                    liste_woerter.append(wort)\n",
    "    \n",
    "    \n",
    "liste_woerter = set(liste_woerter)\n",
    "print(liste_woerter)\n",
    "\n",
    "with open('export.csv', 'w', encoding='UTF8') as f:\n",
    "    writer = csv.writer(f)\n",
    "    # write the data\n",
    "    writer.writerow(liste_woerter)"
   ]
  }
 ],
 "metadata": {
  "kernelspec": {
   "display_name": "Python 3 (ipykernel)",
   "language": "python",
   "name": "python3"
  },
  "language_info": {
   "codemirror_mode": {
    "name": "ipython",
    "version": 3
   },
   "file_extension": ".py",
   "mimetype": "text/x-python",
   "name": "python",
   "nbconvert_exporter": "python",
   "pygments_lexer": "ipython3",
   "version": "3.9.7"
  }
 },
 "nbformat": 4,
 "nbformat_minor": 5
}
